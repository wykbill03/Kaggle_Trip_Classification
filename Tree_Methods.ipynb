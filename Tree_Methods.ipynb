{
 "cells": [
  {
   "cell_type": "code",
   "execution_count": 1,
   "metadata": {
    "collapsed": true
   },
   "outputs": [],
   "source": [
    "import matplotlib.pyplot as plt\n",
    "\n",
    "import numpy as np\n",
    "\n",
    "from sklearn.datasets import make_blobs\n",
    "from sklearn.ensemble import RandomForestClassifier\n",
    "from sklearn.calibration import CalibratedClassifierCV\n",
    "from sklearn.metrics import log_loss\n",
    "from sklearn.metrics import accuracy_score\n",
    "from sklearn import tree\n",
    "from sklearn import cross_validation\n",
    "\n",
    "import pandas as pd"
   ]
  },
  {
   "cell_type": "code",
   "execution_count": 2,
   "metadata": {
    "collapsed": false
   },
   "outputs": [],
   "source": [
    "data = pd.read_csv('train_enc.csv', quotechar='\"', skipinitialspace=True)\n",
    "# drop row index, VisitNumber and Sunday\n",
    "data = data.drop(data.columns[[0, 2, 6]], axis=1)"
   ]
  },
  {
   "cell_type": "code",
   "execution_count": 3,
   "metadata": {
    "collapsed": true
   },
   "outputs": [],
   "source": [
    "data_x = data.drop('TripType', axis=1)\n",
    "data_y = data['TripType']"
   ]
  },
  {
   "cell_type": "code",
   "execution_count": 4,
   "metadata": {
    "collapsed": true
   },
   "outputs": [],
   "source": [
    "data_test_cache = pd.read_csv('test_enc.csv', quotechar='\"', skipinitialspace=True)\n",
    "# drop row index, VisitNumber and Sunday\n",
    "data_test_cache = data_test_cache.drop(data_test_cache.columns[[0, 1, 5]], axis=1)"
   ]
  },
  {
   "cell_type": "code",
   "execution_count": 6,
   "metadata": {
    "collapsed": true
   },
   "outputs": [],
   "source": [
    "data_test = pd.DataFrame(columns=list(data_x.columns))"
   ]
  },
  {
   "cell_type": "code",
   "execution_count": 7,
   "metadata": {
    "collapsed": true
   },
   "outputs": [],
   "source": [
    "for col_name in list(data_test.columns):\n",
    "    try:\n",
    "        data_test[col_name] = data_test_cache[col_name]\n",
    "    except:\n",
    "        data_test[col_name] = 0"
   ]
  },
  {
   "cell_type": "code",
   "execution_count": 8,
   "metadata": {
    "collapsed": false
   },
   "outputs": [],
   "source": [
    "# partition train and test set\n",
    "n_row = data_x.shape[0]\n",
    "\n",
    "np.random.seed(0)\n",
    "\n",
    "row_ind = range(n_row)\n",
    "np.random.shuffle(row_ind)\n",
    "\n",
    "train_ind = row_ind[0:int(n_row*0.9)]\n",
    "test_ind = row_ind[int(n_row*0.9):n_row]\n",
    "\n",
    "train_x = data_x.iloc[train_ind, :]\n",
    "train_y = data_y[train_ind]\n",
    "\n",
    "test_x = data_x.iloc[test_ind, :]\n",
    "test_y = data_y[test_ind]"
   ]
  },
  {
   "cell_type": "code",
   "execution_count": 9,
   "metadata": {
    "collapsed": true
   },
   "outputs": [],
   "source": [
    "# cross validation split\n",
    "cv = cross_validation.ShuffleSplit(len(train_ind), n_iter=10, test_size=0.1, random_state=0)"
   ]
  },
  {
   "cell_type": "code",
   "execution_count": 11,
   "metadata": {
    "collapsed": false
   },
   "outputs": [],
   "source": [
    "# Classification_Tree Classfier\n",
    "clf = tree.DecisionTreeClassifier()"
   ]
  },
  {
   "cell_type": "code",
   "execution_count": 16,
   "metadata": {
    "collapsed": false
   },
   "outputs": [
    {
     "data": {
      "text/plain": [
       "0.56941121820926721"
      ]
     },
     "execution_count": 16,
     "metadata": {},
     "output_type": "execute_result"
    }
   ],
   "source": [
    "\n",
    "scores = cross_validation.cross_val_score(clf, train_x, train_y, cv=cv)\n",
    "np.mean(scores)"
   ]
  },
  {
   "cell_type": "code",
   "execution_count": 12,
   "metadata": {
    "collapsed": false
   },
   "outputs": [
    {
     "data": {
      "text/plain": [
       "DecisionTreeClassifier(class_weight=None, criterion='gini', max_depth=None,\n",
       "            max_features=None, max_leaf_nodes=None, min_samples_leaf=1,\n",
       "            min_samples_split=2, min_weight_fraction_leaf=0.0,\n",
       "            presort=False, random_state=None, splitter='best')"
      ]
     },
     "execution_count": 12,
     "metadata": {},
     "output_type": "execute_result"
    }
   ],
   "source": [
    "clf.fit(train_x, train_y)"
   ]
  },
  {
   "cell_type": "code",
   "execution_count": 15,
   "metadata": {
    "collapsed": false
   },
   "outputs": [
    {
     "name": "stdout",
     "output_type": "stream",
     "text": [
      "Training accuracy = 0.924732306692 , log loss = 0.173743447522\n"
     ]
    }
   ],
   "source": [
    "# log loss of train\n",
    "clf_probs = clf.predict_proba(train_x)\n",
    "\n",
    "score = log_loss(train_y, clf_probs)\n",
    "\n",
    "y_pred = clf.predict(train_x)\n",
    "acc = accuracy_score(train_y, y_pred)\n",
    "\n",
    "print \"Training accuracy =\", acc, \", log loss =\", score"
   ]
  },
  {
   "cell_type": "code",
   "execution_count": 13,
   "metadata": {
    "collapsed": false
   },
   "outputs": [
    {
     "name": "stdout",
     "output_type": "stream",
     "text": [
      "Test accuracy = 0.572742474916 , log loss = 12.5532542408\n"
     ]
    }
   ],
   "source": [
    "# log loss of test\n",
    "clf_probs = clf.predict_proba(test_x)\n",
    "\n",
    "score = log_loss(test_y, clf_probs)\n",
    "\n",
    "y_pred = clf.predict(test_x)\n",
    "acc = accuracy_score(test_y, y_pred)\n",
    "\n",
    "print \"Test accuracy =\", acc, \", log loss =\", score"
   ]
  },
  {
   "cell_type": "markdown",
   "metadata": {},
   "source": [
    "Random Forest"
   ]
  },
  {
   "cell_type": "code",
   "execution_count": 11,
   "metadata": {
    "collapsed": false
   },
   "outputs": [],
   "source": [
    "# Random Forest Classfier\n",
    "clf = RandomForestClassifier(n_estimators=150, random_state=0, max_features = \"sqrt\")"
   ]
  },
  {
   "cell_type": "code",
   "execution_count": 8,
   "metadata": {
    "collapsed": false
   },
   "outputs": [
    {
     "data": {
      "text/plain": [
       "0.63424689350830343"
      ]
     },
     "execution_count": 8,
     "metadata": {},
     "output_type": "execute_result"
    }
   ],
   "source": [
    "\n",
    "scores = cross_validation.cross_val_score(clf, train_x, train_y, cv=cv)\n",
    "np.mean(scores)"
   ]
  },
  {
   "cell_type": "code",
   "execution_count": 10,
   "metadata": {
    "collapsed": false
   },
   "outputs": [
    {
     "name": "stderr",
     "output_type": "stream",
     "text": [
      "C:\\Anaconda2\\lib\\site-packages\\sklearn\\cross_validation.py:516: Warning: The least populated class in y has only 3 members, which is too few. The minimum number of labels for any class cannot be less than n_folds=10.\n",
      "  % (min_labels, self.n_folds)), Warning)\n"
     ]
    },
    {
     "data": {
      "text/plain": [
       "0.63461431163435245"
      ]
     },
     "execution_count": 10,
     "metadata": {},
     "output_type": "execute_result"
    }
   ],
   "source": [
    "# 10-fold\n",
    "# scores = cross_validation.cross_val_score(clf, train_x, train_y, cv=10)\n",
    "# np.mean(scores)"
   ]
  },
  {
   "cell_type": "code",
   "execution_count": 10,
   "metadata": {
    "collapsed": false
   },
   "outputs": [
    {
     "data": {
      "text/plain": [
       "RandomForestClassifier(bootstrap=True, class_weight=None, criterion='gini',\n",
       "            max_depth=None, max_features='sqrt', max_leaf_nodes=None,\n",
       "            min_samples_leaf=1, min_samples_split=2,\n",
       "            min_weight_fraction_leaf=0.0, n_estimators=150, n_jobs=1,\n",
       "            oob_score=False, random_state=0, verbose=0, warm_start=False)"
      ]
     },
     "execution_count": 10,
     "metadata": {},
     "output_type": "execute_result"
    }
   ],
   "source": [
    "clf.fit(train_x, train_y)"
   ]
  },
  {
   "cell_type": "code",
   "execution_count": 9,
   "metadata": {
    "collapsed": false
   },
   "outputs": [
    {
     "name": "stdout",
     "output_type": "stream",
     "text": [
      "Training accuracy = 0.924720693099 , log loss = 0.331545336077\n"
     ]
    }
   ],
   "source": [
    "# log loss of train\n",
    "clf_probs = clf.predict_proba(train_x)\n",
    "\n",
    "score = log_loss(train_y, clf_probs)\n",
    "\n",
    "y_pred = clf.predict(train_x)\n",
    "acc = accuracy_score(train_y, y_pred)\n",
    "\n",
    "print \"Training accuracy =\", acc, \", log loss =\", score"
   ]
  },
  {
   "cell_type": "code",
   "execution_count": 11,
   "metadata": {
    "collapsed": false
   },
   "outputs": [
    {
     "name": "stdout",
     "output_type": "stream",
     "text": [
      "Test accuracy = 0.639318561873 , log loss = 1.65552999486\n"
     ]
    }
   ],
   "source": [
    "# log loss of test\n",
    "clf_probs = clf.predict_proba(test_x)\n",
    "\n",
    "score = log_loss(test_y, clf_probs)\n",
    "\n",
    "y_pred = clf.predict(test_x)\n",
    "acc = accuracy_score(test_y, y_pred)\n",
    "\n",
    "print \"Test accuracy =\", acc, \", log loss =\", score"
   ]
  },
  {
   "cell_type": "markdown",
   "metadata": {
    "collapsed": true
   },
   "source": [
    "Prediction on th actual data set"
   ]
  },
  {
   "cell_type": "code",
   "execution_count": 12,
   "metadata": {
    "collapsed": false
   },
   "outputs": [
    {
     "data": {
      "text/plain": [
       "RandomForestClassifier(bootstrap=True, class_weight=None, criterion='gini',\n",
       "            max_depth=None, max_features='sqrt', max_leaf_nodes=None,\n",
       "            min_samples_leaf=1, min_samples_split=2,\n",
       "            min_weight_fraction_leaf=0.0, n_estimators=150, n_jobs=1,\n",
       "            oob_score=False, random_state=0, verbose=0, warm_start=False)"
      ]
     },
     "execution_count": 12,
     "metadata": {},
     "output_type": "execute_result"
    }
   ],
   "source": [
    "clf.fit(data_x, data_y)"
   ]
  },
  {
   "cell_type": "code",
   "execution_count": null,
   "metadata": {
    "collapsed": true
   },
   "outputs": [],
   "source": [
    "# clf_probs = knn_f.predict_proba(data_test)\n",
    "pred_probs = clf.predict_proba(data_test)\n",
    "submission_probs = pd.DataFrame(pred_probs, columns = list(clf.classes_))"
   ]
  },
  {
   "cell_type": "code",
   "execution_count": null,
   "metadata": {
    "collapsed": true
   },
   "outputs": [],
   "source": [
    "submission = pd.read_csv('sample_submission.csv', quotechar='\"', skipinitialspace=True)"
   ]
  },
  {
   "cell_type": "code",
   "execution_count": null,
   "metadata": {
    "collapsed": true
   },
   "outputs": [],
   "source": [
    "for i in range(len(submission_probs.columns)):\n",
    "    # submission.iloc[:,[i+1]] = submission.iloc[:,[i+1]].astype(float)\n",
    "    submission.iloc[:,[i+1]] = submission_probs.iloc[:,i]"
   ]
  },
  {
   "cell_type": "code",
   "execution_count": null,
   "metadata": {
    "collapsed": true
   },
   "outputs": [],
   "source": [
    "submission.to_csv('submission_rdf.csv', sep=',', index = False)"
   ]
  },
  {
   "cell_type": "code",
   "execution_count": null,
   "metadata": {
    "collapsed": true
   },
   "outputs": [],
   "source": []
  }
 ],
 "metadata": {
  "kernelspec": {
   "display_name": "Python 2",
   "language": "python",
   "name": "python2"
  },
  "language_info": {
   "codemirror_mode": {
    "name": "ipython",
    "version": 2
   },
   "file_extension": ".py",
   "mimetype": "text/x-python",
   "name": "python",
   "nbconvert_exporter": "python",
   "pygments_lexer": "ipython2",
   "version": "2.7.10"
  }
 },
 "nbformat": 4,
 "nbformat_minor": 0
}
